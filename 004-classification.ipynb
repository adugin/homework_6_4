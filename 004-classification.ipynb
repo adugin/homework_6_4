{
 "cells": [
  {
   "cell_type": "markdown",
   "metadata": {},
   "source": [
    "# Реализация логистической регрессии в TensorFlow"
   ]
  },
  {
   "cell_type": "code",
   "execution_count": 1,
   "metadata": {
    "collapsed": true
   },
   "outputs": [],
   "source": [
    "import numpy as np\n",
    "import tensorflow as tf"
   ]
  },
  {
   "cell_type": "code",
   "execution_count": 2,
   "metadata": {
    "collapsed": true
   },
   "outputs": [],
   "source": [
    "%matplotlib inline\n",
    "from matplotlib import pyplot as plt"
   ]
  },
  {
   "cell_type": "markdown",
   "metadata": {},
   "source": [
    "## Генерируем данные для задачи регрессии"
   ]
  },
  {
   "cell_type": "code",
   "execution_count": 3,
   "metadata": {
    "collapsed": true
   },
   "outputs": [],
   "source": [
    "NUM_FEATURES = 2\n",
    "NUM_SAMPLES = 1000"
   ]
  },
  {
   "cell_type": "code",
   "execution_count": 4,
   "metadata": {},
   "outputs": [
    {
     "data": {
      "image/png": "[encoded data removed]",
      "text/plain": [
       "<matplotlib.figure.Figure at 0x29630498c18>"
      ]
     },
     "metadata": {},
     "output_type": "display_data"
    }
   ],
   "source": [
    "from sklearn.datasets import make_classification\n",
    "\n",
    "X, y = make_classification(n_samples = NUM_SAMPLES,\n",
    "                           n_features = NUM_FEATURES,\n",
    "                           n_informative = NUM_FEATURES,\n",
    "                           n_redundant = 0,\n",
    "                           n_classes = 2,\n",
    "                           n_clusters_per_class = 1,\n",
    "                           class_sep = 0.75,\n",
    "                           random_state = 54312)\n",
    "\n",
    "y = y.reshape(-1, 1)\n",
    "\n",
    "ones = np.where(y == 1)   # индексы объектов класса '1'\n",
    "zeros = np.where(y == 0)  # индексы объектов класса '0'\n",
    "\n",
    "plt.xlabel('x')\n",
    "plt.ylabel('y')\n",
    "plt.plot(X[ones, 0], X[ones, 1], 'ob',\n",
    "         X[zeros, 0], X[zeros, 1], 'or');"
   ]
  },
  {
   "cell_type": "markdown",
   "metadata": {},
   "source": [
    "## Вспомогательная функция для создания операций"
   ]
  },
  {
   "cell_type": "code",
   "execution_count": 5,
   "metadata": {
    "collapsed": true
   },
   "outputs": [],
   "source": [
    "import random\n",
    "import string\n",
    "\n",
    "def py_func_with_grad(func, inp, Tout, grad, name = None, stateful = False, graph = None):\n",
    "    \n",
    "    name_prefix = ''.join(random.choices(string.ascii_letters, k = 10))\n",
    "    \n",
    "    name = '%s_%s' % (name_prefix, name or '')\n",
    "    grad_func_name = '%s_grad' % name\n",
    "\n",
    "    tf.RegisterGradient(grad_func_name)(grad)\n",
    "\n",
    "    g = graph or tf.get_default_graph()\n",
    "    with g.gradient_override_map({'PyFunc': grad_func_name, \n",
    "                                  'PyFuncStateless': grad_func_name}):\n",
    "        with tf.name_scope(name, 'PyFuncOp', inp):\n",
    "            return tf.py_func(func, inp, Tout, stateful = stateful, name = name)"
   ]
  },
  {
   "cell_type": "markdown",
   "metadata": {},
   "source": [
    "## Реализация линейной опреаций"
   ]
  },
  {
   "cell_type": "code",
   "execution_count": 6,
   "metadata": {
    "collapsed": true
   },
   "outputs": [],
   "source": [
    "def linear_op_forward(X, W):\n",
    "    ''' Реализация линейной операции '''\n",
    "    return np.dot(X, W.T)  # аргументы являются numpy-массивами\n",
    "\n",
    "def linear_op_backward(op, grads):\n",
    "    ''' Реализация вычисления градиента линейной операции '''\n",
    "    X = op.inputs[0]  # тензор входных данных\n",
    "    W = op.inputs[1]  # тензор параметров модели\n",
    "    dX = tf.multiply(grads, W)\n",
    "    dW = tf.reduce_sum(tf.multiply(X, grads),\n",
    "                       axis = 0,\n",
    "                       keep_dims = True)\n",
    "    return dX, dW\n",
    "\n",
    "def sigmoid_op_forward(X):\n",
    "    # TODO: реализовать операцию sigmoid\n",
    "    return 1.0 / (1.0 + np.exp(-X))\n",
    "\n",
    "def sigmoid_op_backward(op, grads):\n",
    "    # TODO: реализовать вычисление градиента для sigmoid\n",
    "    sigmoid = op.outputs[0]\n",
    "    return sigmoid * (1 - sigmoid) * grads"
   ]
  },
  {
   "cell_type": "markdown",
   "metadata": {},
   "source": [
    "## Создание графа вычислений и обучение модели"
   ]
  },
  {
   "cell_type": "code",
   "execution_count": 10,
   "metadata": {
    "scrolled": true
   },
   "outputs": [
    {
     "name": "stdout",
     "output_type": "stream",
     "text": [
      "[000] loss=0.774 weights=[[ 0.39471295  0.18273449]]\n",
      "[010] loss=0.731 weights=[[ 0.14965241 -0.60315508]]\n",
      "[020] loss=0.614 weights=[[ 0.05655924 -1.18189883]]\n",
      "[030] loss=0.609 weights=[[ 0.03081406 -1.61620855]]\n",
      "[040] loss=0.577 weights=[[ 0.04166409 -1.94191694]]\n",
      "[050] loss=0.649 weights=[[ 0.05950473 -2.21219206]]\n",
      "[060] loss=0.589 weights=[[ 0.1046144  -2.43365908]]\n",
      "[070] loss=0.608 weights=[[ 0.11741007 -2.63164353]]\n",
      "[080] loss=0.564 weights=[[ 0.14788353 -2.80481839]]\n",
      "[090] loss=0.579 weights=[[ 0.16001683 -2.96383619]]\n",
      "[100] loss=0.595 weights=[[ 0.17582777 -3.10098505]]\n",
      "[110] loss=0.543 weights=[[ 0.19248442 -3.2303555 ]]\n",
      "[120] loss=0.568 weights=[[ 0.20219274 -3.35139823]]\n",
      "[130] loss=0.520 weights=[[ 0.21801269 -3.46227908]]\n",
      "[140] loss=0.555 weights=[[ 0.23060942 -3.56520724]]\n",
      "[150] loss=0.606 weights=[[ 0.23798856 -3.66002369]]\n",
      "[160] loss=0.588 weights=[[ 0.24671014 -3.75276375]]\n",
      "[170] loss=0.550 weights=[[ 0.25929922 -3.83742595]]\n",
      "[180] loss=0.587 weights=[[ 0.2639204  -3.92029619]]\n",
      "[190] loss=0.597 weights=[[ 0.27124316 -3.99559903]]\n",
      "[200] loss=0.605 weights=[[ 0.27151167 -4.07273197]]\n",
      "[210] loss=0.558 weights=[[ 0.28222594 -4.14262438]]\n",
      "[220] loss=0.557 weights=[[ 0.28578183 -4.21092701]]\n",
      "[230] loss=0.537 weights=[[ 0.2921688  -4.27619362]]\n",
      "[240] loss=0.590 weights=[[ 0.29228207 -4.33891392]]\n",
      "[250] loss=0.594 weights=[[ 0.29767728 -4.3977375 ]]\n",
      "[260] loss=0.559 weights=[[ 0.30113858 -4.45676708]]\n",
      "[270] loss=0.546 weights=[[ 0.30029887 -4.51586056]]\n",
      "[280] loss=0.544 weights=[[ 0.31169534 -4.56855726]]\n",
      "[290] loss=0.548 weights=[[ 0.30938172 -4.62262726]]\n",
      "[300] loss=0.561 weights=[[ 0.31205532 -4.67154837]]\n",
      "[310] loss=0.579 weights=[[ 0.31194857 -4.72181463]]\n",
      "[320] loss=0.554 weights=[[ 0.31636038 -4.7694869 ]]\n",
      "[330] loss=0.572 weights=[[ 0.31473082 -4.81833553]]\n",
      "[340] loss=0.552 weights=[[ 0.3149012  -4.86350584]]\n",
      "[350] loss=0.567 weights=[[ 0.31715804 -4.90809774]]\n",
      "[360] loss=0.542 weights=[[ 0.32078269 -4.95350409]]\n",
      "[370] loss=0.566 weights=[[ 0.31870729 -4.99614668]]\n",
      "[380] loss=0.548 weights=[[ 0.32232943 -5.03608799]]\n",
      "[390] loss=0.510 weights=[[ 0.32595763 -5.07735205]]\n",
      "[400] loss=0.552 weights=[[ 0.32475755 -5.11695528]]\n",
      "[410] loss=0.561 weights=[[ 0.32517931 -5.15532398]]\n",
      "[420] loss=0.604 weights=[[ 0.32558793 -5.19226599]]\n",
      "[430] loss=0.562 weights=[[ 0.32516843 -5.23153973]]\n",
      "[440] loss=0.601 weights=[[ 0.32872197 -5.26765633]]\n",
      "[450] loss=0.558 weights=[[ 0.33024529 -5.3039856 ]]\n",
      "[460] loss=0.583 weights=[[ 0.32894042 -5.33828688]]\n",
      "[470] loss=0.523 weights=[[ 0.33151662 -5.37370872]]\n",
      "[480] loss=0.538 weights=[[ 0.33095366 -5.40890741]]\n",
      "[490] loss=0.579 weights=[[ 0.33010066 -5.4407959 ]]\n",
      "[500] loss=0.567 weights=[[ 0.33441299 -5.47354746]]\n",
      "[510] loss=0.579 weights=[[ 0.33175078 -5.50628805]]\n",
      "[520] loss=0.589 weights=[[ 0.33378297 -5.53691912]]\n",
      "[530] loss=0.527 weights=[[ 0.33187622 -5.56930447]]\n",
      "[540] loss=0.540 weights=[[ 0.33300489 -5.59828281]]\n",
      "[550] loss=0.539 weights=[[ 0.33360147 -5.62932158]]\n",
      "[560] loss=0.558 weights=[[ 0.33031839 -5.65906286]]\n",
      "[570] loss=0.534 weights=[[ 0.33121151 -5.68934107]]\n",
      "[580] loss=0.557 weights=[[ 0.3332113  -5.71678209]]\n",
      "[590] loss=0.598 weights=[[ 0.33340374 -5.74470663]]\n",
      "[600] loss=0.585 weights=[[ 0.32912543 -5.77412939]]\n",
      "[610] loss=0.557 weights=[[ 0.3324745  -5.80051756]]\n",
      "[620] loss=0.586 weights=[[ 0.331671   -5.82783365]]\n",
      "[630] loss=0.545 weights=[[ 0.33182743 -5.85603571]]\n",
      "[640] loss=0.538 weights=[[ 0.33126739 -5.88149118]]\n",
      "[650] loss=0.549 weights=[[ 0.33144826 -5.90664244]]\n",
      "[660] loss=0.528 weights=[[ 0.33353177 -5.93447495]]\n",
      "[670] loss=0.545 weights=[[ 0.33033785 -5.95965242]]\n",
      "[680] loss=0.571 weights=[[ 0.32986096 -5.98576164]]\n",
      "[690] loss=0.545 weights=[[ 0.33261713 -6.00782156]]\n",
      "[700] loss=0.538 weights=[[ 0.33315656 -6.03318834]]\n",
      "[710] loss=0.544 weights=[[ 0.33575642 -6.05632162]]\n",
      "[720] loss=0.547 weights=[[ 0.33313444 -6.08083296]]\n",
      "[730] loss=0.540 weights=[[ 0.33179933 -6.1039691 ]]\n",
      "[740] loss=0.577 weights=[[ 0.330652   -6.12909412]]\n",
      "[750] loss=0.527 weights=[[ 0.33258089 -6.15172625]]\n",
      "[760] loss=0.545 weights=[[ 0.33037874 -6.1750412 ]]\n",
      "[770] loss=0.550 weights=[[ 0.32890195 -6.19724607]]\n",
      "[780] loss=0.613 weights=[[ 0.32613817 -6.21968508]]\n",
      "[790] loss=0.551 weights=[[ 0.32868296 -6.2415123 ]]\n",
      "[800] loss=0.560 weights=[[ 0.33083689 -6.26365709]]\n",
      "[810] loss=0.547 weights=[[ 0.33009911 -6.2846179 ]]\n",
      "[820] loss=0.582 weights=[[ 0.3289032  -6.30556917]]\n",
      "[830] loss=0.584 weights=[[ 0.32577783 -6.32864475]]\n",
      "[840] loss=0.585 weights=[[ 0.32831261 -6.34871769]]\n",
      "[850] loss=0.538 weights=[[ 0.32887262 -6.3686986 ]]\n",
      "[860] loss=0.535 weights=[[ 0.32901198 -6.39022923]]\n",
      "[870] loss=0.515 weights=[[ 0.32917058 -6.41022301]]\n",
      "[880] loss=0.579 weights=[[ 0.32622802 -6.43003082]]\n",
      "[890] loss=0.545 weights=[[ 0.32268876 -6.45232487]]\n",
      "[900] loss=0.542 weights=[[ 0.32433772 -6.46989107]]\n",
      "[910] loss=0.552 weights=[[ 0.32523376 -6.48958778]]\n",
      "[920] loss=0.579 weights=[[ 0.32428011 -6.50899267]]\n",
      "[930] loss=0.562 weights=[[ 0.32752439 -6.52838945]]\n",
      "[940] loss=0.563 weights=[[ 0.32227135 -6.54870224]]\n",
      "[950] loss=0.527 weights=[[ 0.32606786 -6.56558895]]\n",
      "[960] loss=0.624 weights=[[ 0.32419029 -6.5854311 ]]\n",
      "[970] loss=0.595 weights=[[ 0.32226574 -6.60387325]]\n",
      "[980] loss=0.577 weights=[[ 0.32286358 -6.62253189]]\n",
      "[990] loss=0.528 weights=[[ 0.32450542 -6.6403532 ]]\n"
     ]
    }
   ],
   "source": [
    "BATCH_SIZE = NUM_SAMPLES // 10\n",
    "\n",
    "weights = None  # в этой переменной мы сохраним результат обучения модели\n",
    "learning_curve = []  # значения ошибки на каждой итерации обучения\n",
    "\n",
    "with tf.Session(graph = tf.Graph()) as sess:  # инициализируем сессию вычислений\n",
    "    \n",
    "    # создаем placeholdr'ы, через них мы будем\n",
    "    # передавать внешние данные в граф вычислений\n",
    "    plh_X = tf.placeholder(dtype = tf.float32, shape = [None, NUM_FEATURES])\n",
    "    plh_labels = tf.placeholder(dtype = tf.float32, shape = [None, 1])\n",
    "\n",
    "    # создаем переменную для хранения весов модели\n",
    "    # эти веса будут изменяться в процессе обучения\n",
    "    var_W = tf.Variable(tf.random_uniform(shape = [1, NUM_FEATURES],\n",
    "                                          dtype = tf.float32,\n",
    "                                          seed = 54321))\n",
    "    \n",
    "    # создаем переменную для результата предсказания модели\n",
    "    var_Pred = py_func_with_grad(linear_op_forward,         # функция предсказания модели \n",
    "                                 [plh_X, var_W],            # аргументы функции\n",
    "                                 [tf.float32],              # тип выходных значений\n",
    "                                 name = 'linear_op',        # имя операции \n",
    "                                 grad = linear_op_backward, # функция для вычисления градиента\n",
    "                                 graph = sess.graph)        # объект графа вчислений\n",
    "    \n",
    "    # создаем переменную для результата операции sigmoid\n",
    "    var_Sigmoid = py_func_with_grad(sigmoid_op_forward,\n",
    "                                    [var_Pred],\n",
    "                                    [tf.float32],\n",
    "                                    name = 'sigmoid_op',\n",
    "                                    grad = sigmoid_op_backward,\n",
    "                                    graph = sess.graph)\n",
    "    \n",
    "    # кроссэнтропийная функция потерь для бмнарной классификации\n",
    "    cost = tf.losses.sigmoid_cross_entropy(plh_labels, var_Sigmoid)\n",
    "    \n",
    "    # инициализируем оптимизатор и указываем скорость обучения\n",
    "    optimizer = tf.train.GradientDescentOptimizer(learning_rate = 0.9).minimize(cost)\n",
    "\n",
    "    # инициализируем placeholder'ы и переменные\n",
    "    sess.run(tf.global_variables_initializer())\n",
    "    \n",
    "    indices = np.arange(len(X))  # массив индексов объектов\n",
    "    \n",
    "    # выполняем итерации по 10-ти эпохам\n",
    "    for epoch in range(100):\n",
    "        \n",
    "        # вначале каждой эпохи перемешиваем индексы\n",
    "        np.random.shuffle(indices)\n",
    "        \n",
    "        # внутри каждой эпохи данные разбиваются на батчи\n",
    "        for batch in range(len(X) // BATCH_SIZE):\n",
    "            \n",
    "            # выбираем индексы очередного батча\n",
    "            batch_indices = indices[batch * BATCH_SIZE:(batch + 1) * BATCH_SIZE]\n",
    "\n",
    "            # выполняем шаг обучения: вычисляем ошибку и обновляем веса\n",
    "            loss, _ = sess.run([cost, optimizer],  # указываем, какие операции необходимо выполнить\n",
    "                               feed_dict = {plh_X: X[batch_indices],  # передаем входные данные для вычисления\n",
    "                                            plh_labels: y[batch_indices]})\n",
    "        \n",
    "            # сохраняем занчения ошибки для построения кривой обучения\n",
    "            learning_curve.append(loss)\n",
    "            \n",
    "            # выводим текущее значение ошибки для каждого 10го шага\n",
    "            steps = len(learning_curve) - 1\n",
    "            if steps % 10 == 0:\n",
    "                print('[%03d] loss=%.3f weights=%s' % (steps, loss, var_W.eval()))\n",
    "    \n",
    "    # сохраняем обученные веса\n",
    "    weights = var_W.eval()"
   ]
  },
  {
   "cell_type": "markdown",
   "metadata": {},
   "source": [
    "## Визуализируем кривую обучения"
   ]
  },
  {
   "cell_type": "code",
   "execution_count": 11,
   "metadata": {},
   "outputs": [
    {
     "data": {
      "image/png": "[encoded data removed]",
      "text/plain": [
       "<matplotlib.figure.Figure at 0x296304a2e10>"
      ]
     },
     "metadata": {},
     "output_type": "display_data"
    }
   ],
   "source": [
    "plt.xlabel('step')\n",
    "plt.ylabel('loss')\n",
    "plt.title('Learning curve')\n",
    "plt.plot(learning_curve);"
   ]
  },
  {
   "cell_type": "markdown",
   "metadata": {},
   "source": [
    "## Визуализируем разделяющую гиперплоскость"
   ]
  },
  {
   "cell_type": "code",
   "execution_count": 12,
   "metadata": {},
   "outputs": [
    {
     "data": {
      "image/png": "[encoded data removed]",
      "text/plain": [
       "<matplotlib.figure.Figure at 0x2964d05be48>"
      ]
     },
     "metadata": {},
     "output_type": "display_data"
    }
   ],
   "source": [
    "y_pred = - X[:, 0] * weights[0, 0] / weights[0, 1]\n",
    "\n",
    "order = np.argsort(X[:, 0])\n",
    "\n",
    "plt.xlabel('x')\n",
    "plt.ylabel('y')\n",
    "plt.plot(X[ones, 0], X[ones, 1], 'ob',\n",
    "         X[zeros, 0], X[zeros, 1], 'or',\n",
    "         X[order, 0], y_pred[order], '-g');"
   ]
  },
  {
   "cell_type": "code",
   "execution_count": null,
   "metadata": {
    "collapsed": true
   },
   "outputs": [],
   "source": []
  }
 ],
 "metadata": {
  "kernelspec": {
   "display_name": "Python 3",
   "language": "python",
   "name": "python3"
  },
  "language_info": {
   "codemirror_mode": {
    "name": "ipython",
    "version": 3
   },
   "file_extension": ".py",
   "mimetype": "text/x-python",
   "name": "python",
   "nbconvert_exporter": "python",
   "pygments_lexer": "ipython3",
   "version": "3.6.5"
  }
 },
 "nbformat": 4,
 "nbformat_minor": 2
}
